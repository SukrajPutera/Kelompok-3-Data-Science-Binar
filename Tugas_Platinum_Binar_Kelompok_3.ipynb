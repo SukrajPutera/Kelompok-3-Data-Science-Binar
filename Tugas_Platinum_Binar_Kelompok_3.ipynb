{
  "cells": [
    {
      "cell_type": "markdown",
      "metadata": {
        "id": "view-in-github",
        "colab_type": "text"
      },
      "source": [
        "<a href=\"https://colab.research.google.com/github/SukrajPutera/Kelompok-3-Data-Science-Binar/blob/main/Tugas_Platinum_Binar_Kelompok_3.ipynb\" target=\"_parent\"><img src=\"https://colab.research.google.com/assets/colab-badge.svg\" alt=\"Open In Colab\"/></a>"
      ]
    },
    {
      "cell_type": "code",
      "execution_count": 1,
      "metadata": {
        "id": "8AR6Bjl96ylh"
      },
      "outputs": [],
      "source": [
        "import pandas as pd\n",
        "import re"
      ]
    },
    {
      "cell_type": "code",
      "execution_count": 2,
      "metadata": {
        "colab": {
          "base_uri": "https://localhost:8080/",
          "height": 73
        },
        "id": "_XLDNwMEFTT-",
        "outputId": "eebf5320-2c31-4871-e6c9-fdf0828d9ce9"
      },
      "outputs": [
        {
          "output_type": "display_data",
          "data": {
            "text/plain": [
              "<IPython.core.display.HTML object>"
            ],
            "text/html": [
              "\n",
              "     <input type=\"file\" id=\"files-ca8c75ed-8b0b-4afb-9710-56461f7a87ef\" name=\"files[]\" multiple disabled\n",
              "        style=\"border:none\" />\n",
              "     <output id=\"result-ca8c75ed-8b0b-4afb-9710-56461f7a87ef\">\n",
              "      Upload widget is only available when the cell has been executed in the\n",
              "      current browser session. Please rerun this cell to enable.\n",
              "      </output>\n",
              "      <script>// Copyright 2017 Google LLC\n",
              "//\n",
              "// Licensed under the Apache License, Version 2.0 (the \"License\");\n",
              "// you may not use this file except in compliance with the License.\n",
              "// You may obtain a copy of the License at\n",
              "//\n",
              "//      http://www.apache.org/licenses/LICENSE-2.0\n",
              "//\n",
              "// Unless required by applicable law or agreed to in writing, software\n",
              "// distributed under the License is distributed on an \"AS IS\" BASIS,\n",
              "// WITHOUT WARRANTIES OR CONDITIONS OF ANY KIND, either express or implied.\n",
              "// See the License for the specific language governing permissions and\n",
              "// limitations under the License.\n",
              "\n",
              "/**\n",
              " * @fileoverview Helpers for google.colab Python module.\n",
              " */\n",
              "(function(scope) {\n",
              "function span(text, styleAttributes = {}) {\n",
              "  const element = document.createElement('span');\n",
              "  element.textContent = text;\n",
              "  for (const key of Object.keys(styleAttributes)) {\n",
              "    element.style[key] = styleAttributes[key];\n",
              "  }\n",
              "  return element;\n",
              "}\n",
              "\n",
              "// Max number of bytes which will be uploaded at a time.\n",
              "const MAX_PAYLOAD_SIZE = 100 * 1024;\n",
              "\n",
              "function _uploadFiles(inputId, outputId) {\n",
              "  const steps = uploadFilesStep(inputId, outputId);\n",
              "  const outputElement = document.getElementById(outputId);\n",
              "  // Cache steps on the outputElement to make it available for the next call\n",
              "  // to uploadFilesContinue from Python.\n",
              "  outputElement.steps = steps;\n",
              "\n",
              "  return _uploadFilesContinue(outputId);\n",
              "}\n",
              "\n",
              "// This is roughly an async generator (not supported in the browser yet),\n",
              "// where there are multiple asynchronous steps and the Python side is going\n",
              "// to poll for completion of each step.\n",
              "// This uses a Promise to block the python side on completion of each step,\n",
              "// then passes the result of the previous step as the input to the next step.\n",
              "function _uploadFilesContinue(outputId) {\n",
              "  const outputElement = document.getElementById(outputId);\n",
              "  const steps = outputElement.steps;\n",
              "\n",
              "  const next = steps.next(outputElement.lastPromiseValue);\n",
              "  return Promise.resolve(next.value.promise).then((value) => {\n",
              "    // Cache the last promise value to make it available to the next\n",
              "    // step of the generator.\n",
              "    outputElement.lastPromiseValue = value;\n",
              "    return next.value.response;\n",
              "  });\n",
              "}\n",
              "\n",
              "/**\n",
              " * Generator function which is called between each async step of the upload\n",
              " * process.\n",
              " * @param {string} inputId Element ID of the input file picker element.\n",
              " * @param {string} outputId Element ID of the output display.\n",
              " * @return {!Iterable<!Object>} Iterable of next steps.\n",
              " */\n",
              "function* uploadFilesStep(inputId, outputId) {\n",
              "  const inputElement = document.getElementById(inputId);\n",
              "  inputElement.disabled = false;\n",
              "\n",
              "  const outputElement = document.getElementById(outputId);\n",
              "  outputElement.innerHTML = '';\n",
              "\n",
              "  const pickedPromise = new Promise((resolve) => {\n",
              "    inputElement.addEventListener('change', (e) => {\n",
              "      resolve(e.target.files);\n",
              "    });\n",
              "  });\n",
              "\n",
              "  const cancel = document.createElement('button');\n",
              "  inputElement.parentElement.appendChild(cancel);\n",
              "  cancel.textContent = 'Cancel upload';\n",
              "  const cancelPromise = new Promise((resolve) => {\n",
              "    cancel.onclick = () => {\n",
              "      resolve(null);\n",
              "    };\n",
              "  });\n",
              "\n",
              "  // Wait for the user to pick the files.\n",
              "  const files = yield {\n",
              "    promise: Promise.race([pickedPromise, cancelPromise]),\n",
              "    response: {\n",
              "      action: 'starting',\n",
              "    }\n",
              "  };\n",
              "\n",
              "  cancel.remove();\n",
              "\n",
              "  // Disable the input element since further picks are not allowed.\n",
              "  inputElement.disabled = true;\n",
              "\n",
              "  if (!files) {\n",
              "    return {\n",
              "      response: {\n",
              "        action: 'complete',\n",
              "      }\n",
              "    };\n",
              "  }\n",
              "\n",
              "  for (const file of files) {\n",
              "    const li = document.createElement('li');\n",
              "    li.append(span(file.name, {fontWeight: 'bold'}));\n",
              "    li.append(span(\n",
              "        `(${file.type || 'n/a'}) - ${file.size} bytes, ` +\n",
              "        `last modified: ${\n",
              "            file.lastModifiedDate ? file.lastModifiedDate.toLocaleDateString() :\n",
              "                                    'n/a'} - `));\n",
              "    const percent = span('0% done');\n",
              "    li.appendChild(percent);\n",
              "\n",
              "    outputElement.appendChild(li);\n",
              "\n",
              "    const fileDataPromise = new Promise((resolve) => {\n",
              "      const reader = new FileReader();\n",
              "      reader.onload = (e) => {\n",
              "        resolve(e.target.result);\n",
              "      };\n",
              "      reader.readAsArrayBuffer(file);\n",
              "    });\n",
              "    // Wait for the data to be ready.\n",
              "    let fileData = yield {\n",
              "      promise: fileDataPromise,\n",
              "      response: {\n",
              "        action: 'continue',\n",
              "      }\n",
              "    };\n",
              "\n",
              "    // Use a chunked sending to avoid message size limits. See b/62115660.\n",
              "    let position = 0;\n",
              "    do {\n",
              "      const length = Math.min(fileData.byteLength - position, MAX_PAYLOAD_SIZE);\n",
              "      const chunk = new Uint8Array(fileData, position, length);\n",
              "      position += length;\n",
              "\n",
              "      const base64 = btoa(String.fromCharCode.apply(null, chunk));\n",
              "      yield {\n",
              "        response: {\n",
              "          action: 'append',\n",
              "          file: file.name,\n",
              "          data: base64,\n",
              "        },\n",
              "      };\n",
              "\n",
              "      let percentDone = fileData.byteLength === 0 ?\n",
              "          100 :\n",
              "          Math.round((position / fileData.byteLength) * 100);\n",
              "      percent.textContent = `${percentDone}% done`;\n",
              "\n",
              "    } while (position < fileData.byteLength);\n",
              "  }\n",
              "\n",
              "  // All done.\n",
              "  yield {\n",
              "    response: {\n",
              "      action: 'complete',\n",
              "    }\n",
              "  };\n",
              "}\n",
              "\n",
              "scope.google = scope.google || {};\n",
              "scope.google.colab = scope.google.colab || {};\n",
              "scope.google.colab._files = {\n",
              "  _uploadFiles,\n",
              "  _uploadFilesContinue,\n",
              "};\n",
              "})(self);\n",
              "</script> "
            ]
          },
          "metadata": {}
        },
        {
          "output_type": "stream",
          "name": "stdout",
          "text": [
            "Saving train_preprocess.tsv.txt to train_preprocess.tsv.txt\n"
          ]
        }
      ],
      "source": [
        "from google.colab import files\n",
        "\n",
        "uploaded = files.upload()\n"
      ]
    },
    {
      "cell_type": "code",
      "execution_count": 3,
      "metadata": {
        "id": "aad3RX1V8ZBg"
      },
      "outputs": [],
      "source": [
        "# Load the TSV file\n",
        "df = pd.read_csv('train_preprocess.tsv.txt', sep='\\t')\n"
      ]
    },
    {
      "cell_type": "code",
      "execution_count": 4,
      "metadata": {
        "id": "EJOdGRJL8G6-",
        "colab": {
          "base_uri": "https://localhost:8080/"
        },
        "outputId": "3bb566e5-4a98-4e67-90f1-a82333a60122"
      },
      "outputs": [
        {
          "output_type": "stream",
          "name": "stdout",
          "text": [
            "  warung ini dimiliki oleh pengusaha pabrik tahu yang sudah puluhan tahun terkenal membuat tahu putih di bandung . tahu berkualitas , dipadu keahlian memasak , dipadu kretivitas , jadilah warung yang menyajikan menu utama berbahan tahu , ditambah menu umum lain seperti ayam . semuanya selera indonesia . harga cukup terjangkau . jangan lewatkan tahu bletoka nya , tidak kalah dengan yang asli dari tegal !  \\\n",
            "0  mohon ulama lurus dan k212 mmbri hujjah partai...                                                                                                                                                                                                                                                                                                                                                                     \n",
            "1  lokasi strategis di jalan sumatera bandung . t...                                                                                                                                                                                                                                                                                                                                                                     \n",
            "2  betapa bahagia nya diri ini saat unboxing pake...                                                                                                                                                                                                                                                                                                                                                                     \n",
            "3  duh . jadi mahasiswa jangan sombong dong . kas...                                                                                                                                                                                                                                                                                                                                                                     \n",
            "4  makanan beragam , harga makanan di food stall ...                                                                                                                                                                                                                                                                                                                                                                     \n",
            "\n",
            "   positive  \n",
            "0   neutral  \n",
            "1  positive  \n",
            "2  positive  \n",
            "3  negative  \n",
            "4  positive  \n",
            "<class 'pandas.core.frame.DataFrame'>\n",
            "RangeIndex: 10999 entries, 0 to 10998\n",
            "Data columns (total 2 columns):\n",
            " #   Column                                                                                                                                                                                                                                                                                                                                                                                                                Non-Null Count  Dtype \n",
            "---  ------                                                                                                                                                                                                                                                                                                                                                                                                                --------------  ----- \n",
            " 0   warung ini dimiliki oleh pengusaha pabrik tahu yang sudah puluhan tahun terkenal membuat tahu putih di bandung . tahu berkualitas , dipadu keahlian memasak , dipadu kretivitas , jadilah warung yang menyajikan menu utama berbahan tahu , ditambah menu umum lain seperti ayam . semuanya selera indonesia . harga cukup terjangkau . jangan lewatkan tahu bletoka nya , tidak kalah dengan yang asli dari tegal !  10999 non-null  object\n",
            " 1   positive                                                                                                                                                                                                                                                                                                                                                                                                              10999 non-null  object\n",
            "dtypes: object(2)\n",
            "memory usage: 172.0+ KB\n",
            "None\n",
            "       warung ini dimiliki oleh pengusaha pabrik tahu yang sudah puluhan tahun terkenal membuat tahu putih di bandung . tahu berkualitas , dipadu keahlian memasak , dipadu kretivitas , jadilah warung yang menyajikan menu utama berbahan tahu , ditambah menu umum lain seperti ayam . semuanya selera indonesia . harga cukup terjangkau . jangan lewatkan tahu bletoka nya , tidak kalah dengan yang asli dari tegal !  \\\n",
            "count                                               10999                                                                                                                                                                                                                                                                                                                                                                     \n",
            "unique                                              10932                                                                                                                                                                                                                                                                                                                                                                     \n",
            "top                                                 kesal                                                                                                                                                                                                                                                                                                                                                                     \n",
            "freq                                                    4                                                                                                                                                                                                                                                                                                                                                                     \n",
            "\n",
            "        positive  \n",
            "count      10999  \n",
            "unique         3  \n",
            "top     positive  \n",
            "freq        6415  \n"
          ]
        }
      ],
      "source": [
        "# Explore the dataset\n",
        "print(df.head())  # Display the first few rows of the DataFrame\n",
        "print(df.info())  # Display information about the DataFrame, including column names and data types\n",
        "print(df.describe())  # Generate descriptive statistics of the DataFrame"
      ]
    },
    {
      "cell_type": "code",
      "execution_count": 5,
      "metadata": {
        "id": "FChrirKb8gmB"
      },
      "outputs": [],
      "source": [
        "# Perform initial data cleaning\n",
        "columns_to_drop = ['irrelevant_column1', 'irrelevant_column2']\n",
        "existing_columns = df.columns.tolist()  # Get the list of existing columns in the DataFrame\n",
        "columns_to_drop = [col for col in columns_to_drop if col in existing_columns]  # Check if the columns exist in the DataFrame\n",
        "df = df.drop(columns=columns_to_drop)  # Drop the specified columns from the DataFrame\n"
      ]
    },
    {
      "cell_type": "code",
      "execution_count": 6,
      "metadata": {
        "id": "V-wAQRVM8kBz",
        "colab": {
          "base_uri": "https://localhost:8080/"
        },
        "outputId": "ac466a23-db46-42ba-b66e-c6876c89866a"
      },
      "outputs": [
        {
          "output_type": "stream",
          "name": "stdout",
          "text": [
            "warung ini dimiliki oleh pengusaha pabrik tahu yang sudah puluhan tahun terkenal membuat tahu putih di bandung . tahu berkualitas , dipadu keahlian memasak , dipadu kretivitas , jadilah warung yang menyajikan menu utama berbahan tahu , ditambah menu umum lain seperti ayam . semuanya selera indonesia . harga cukup terjangkau . jangan lewatkan tahu bletoka nya , tidak kalah dengan yang asli dari tegal !    0\n",
            "positive                                                                                                                                                                                                                                                                                                                                                                                                                0\n",
            "dtype: int64\n"
          ]
        }
      ],
      "source": [
        "# Handle missing values\n",
        "print(df.isnull().sum())  # Check the number of missing values in each column\n",
        "df = df.dropna()  # Drop rows with missing values or use fillna() to impute missing values\n"
      ]
    },
    {
      "cell_type": "code",
      "execution_count": 7,
      "metadata": {
        "id": "n9JUZNm-8oL9",
        "colab": {
          "base_uri": "https://localhost:8080/"
        },
        "outputId": "2252942a-c4fa-4340-d0e1-ebb919bfd21b"
      },
      "outputs": [
        {
          "output_type": "stream",
          "name": "stdout",
          "text": [
            "<class 'pandas.core.frame.DataFrame'>\n",
            "RangeIndex: 10999 entries, 0 to 10998\n",
            "Data columns (total 2 columns):\n",
            " #   Column                                                                                                                                                                                                                                                                                                                                                                                                                Non-Null Count  Dtype \n",
            "---  ------                                                                                                                                                                                                                                                                                                                                                                                                                --------------  ----- \n",
            " 0   warung ini dimiliki oleh pengusaha pabrik tahu yang sudah puluhan tahun terkenal membuat tahu putih di bandung . tahu berkualitas , dipadu keahlian memasak , dipadu kretivitas , jadilah warung yang menyajikan menu utama berbahan tahu , ditambah menu umum lain seperti ayam . semuanya selera indonesia . harga cukup terjangkau . jangan lewatkan tahu bletoka nya , tidak kalah dengan yang asli dari tegal !  10999 non-null  object\n",
            " 1   positive                                                                                                                                                                                                                                                                                                                                                                                                              10999 non-null  object\n",
            "dtypes: object(2)\n",
            "memory usage: 172.0+ KB\n",
            "None\n",
            "       warung ini dimiliki oleh pengusaha pabrik tahu yang sudah puluhan tahun terkenal membuat tahu putih di bandung . tahu berkualitas , dipadu keahlian memasak , dipadu kretivitas , jadilah warung yang menyajikan menu utama berbahan tahu , ditambah menu umum lain seperti ayam . semuanya selera indonesia . harga cukup terjangkau . jangan lewatkan tahu bletoka nya , tidak kalah dengan yang asli dari tegal !  \\\n",
            "count                                               10999                                                                                                                                                                                                                                                                                                                                                                     \n",
            "unique                                              10932                                                                                                                                                                                                                                                                                                                                                                     \n",
            "top                                                 kesal                                                                                                                                                                                                                                                                                                                                                                     \n",
            "freq                                                    4                                                                                                                                                                                                                                                                                                                                                                     \n",
            "\n",
            "        positive  \n",
            "count      10999  \n",
            "unique         3  \n",
            "top     positive  \n",
            "freq        6415  \n"
          ]
        }
      ],
      "source": [
        "# Validate the cleansed data\n",
        "print(df.info())      # Verify the information of the DataFrame after cleansing\n",
        "print(df.describe())  # Validate the descriptive statistics of the DataFrame after cleansing"
      ]
    },
    {
      "cell_type": "code",
      "execution_count": 8,
      "metadata": {
        "id": "1sz217za9K4S"
      },
      "outputs": [],
      "source": [
        "# Removing special characters, punctuation, and unwanted symbols from the text using re.sub()\n",
        "\n",
        "# Define a function to remove special characters using re.sub()\n",
        "def remove_special_chars(text):\n",
        "    return re.sub(r'[^a-zA-Z0-9\\s]', '', str(text))\n",
        "\n",
        "# Apply the function to the entire DataFrame using applymap()\n",
        "df_cleaned = df.applymap(remove_special_chars)\n"
      ]
    },
    {
      "cell_type": "code",
      "execution_count": 9,
      "metadata": {
        "id": "Q6QxXN3j9NKw"
      },
      "outputs": [],
      "source": [
        "# Removing numbers or digits using \\d or \\D\n",
        "digit_pattern = r'\\d'\n",
        "df_cleaned = df_cleaned.replace({digit_pattern: ''}, regex=True)"
      ]
    },
    {
      "cell_type": "code",
      "execution_count": 10,
      "metadata": {
        "id": "t3usyP8l9P6h"
      },
      "outputs": [],
      "source": [
        "# Remove leading/trailing whitespace using \\s\n",
        "df_cleaned = df.replace({r'\\s': ''}, regex=True)\n",
        "\n",
        "# Remove multiple spaces using \\s+\n",
        "df_cleaned = df_cleaned.replace({r'\\s+': ' '}, regex=True)"
      ]
    },
    {
      "cell_type": "code",
      "execution_count": 11,
      "metadata": {
        "id": "CaoIyy_79Sea"
      },
      "outputs": [],
      "source": [
        "# Function to remove HTML tags using regex\n",
        "def remove_html_tags(text):\n",
        "    clean_text = re.sub(r'<.*?>', '', str(text))\n",
        "    return clean_text\n",
        "\n",
        "# Function to remove URLs using regex\n",
        "def remove_urls(text):\n",
        "    clean_text = re.sub(r'http\\S+|www\\S+', '', str(text))\n",
        "    return clean_text\n",
        "\n",
        "# Apply the functions to the entire DataFrame using applymap()\n",
        "df_cleaned = df.applymap(remove_html_tags)\n",
        "df_cleaned = df_cleaned.applymap(remove_urls)"
      ]
    },
    {
      "cell_type": "code",
      "execution_count": 12,
      "metadata": {
        "colab": {
          "base_uri": "https://localhost:8080/"
        },
        "id": "7Q2WWeWk9WVO",
        "outputId": "afc12b48-864b-4cbb-d2bd-d6e29502564b"
      },
      "outputs": [
        {
          "output_type": "stream",
          "name": "stdout",
          "text": [
            "      warung ini dimiliki oleh pengusaha pabrik tahu yang sudah puluhan tahun terkenal membuat tahu putih di bandung . tahu berkualitas , dipadu keahlian memasak , dipadu kretivitas , jadilah warung yang menyajikan menu utama berbahan tahu , ditambah menu umum lain seperti ayam . semuanya selera indonesia . harga cukup terjangkau . jangan lewatkan tahu bletoka nya , tidak kalah dengan yang asli dari tegal !  \\\n",
            "0      mohon ulama lurus dan k212 mmbri hujjah partai...                                                                                                                                                                                                                                                                                                                                                                     \n",
            "1      lokasi strategis di jalan sumatera bandung . t...                                                                                                                                                                                                                                                                                                                                                                     \n",
            "2      betapa bahagia nya diri ini saat unboxing pake...                                                                                                                                                                                                                                                                                                                                                                     \n",
            "3      duh . jadi mahasiswa jangan sombong dong . kas...                                                                                                                                                                                                                                                                                                                                                                     \n",
            "4      makanan beragam , harga makanan di food stall ...                                                                                                                                                                                                                                                                                                                                                                     \n",
            "...                                                  ...                                                                                                                                                                                                                                                                                                                                                                     \n",
            "10994                                       tidak kecewa                                                                                                                                                                                                                                                                                                                                                                     \n",
            "10995  enak rasa masakan nya apalagi kepiting yang me...                                                                                                                                                                                                                                                                                                                                                                     \n",
            "10996        hormati partai-partai yang telah berkoalisi                                                                                                                                                                                                                                                                                                                                                                     \n",
            "10997  pagi pagi di tol pasteur sudah macet parah , b...                                                                                                                                                                                                                                                                                                                                                                     \n",
            "10998  meskipun sering belanja ke yogya di riau junct...                                                                                                                                                                                                                                                                                                                                                                     \n",
            "\n",
            "       positive  \n",
            "0       neutral  \n",
            "1      positive  \n",
            "2      positive  \n",
            "3      negative  \n",
            "4      positive  \n",
            "...         ...  \n",
            "10994  positive  \n",
            "10995  positive  \n",
            "10996   neutral  \n",
            "10997  negative  \n",
            "10998  positive  \n",
            "\n",
            "[10999 rows x 2 columns]\n"
          ]
        }
      ],
      "source": [
        "print(df_cleaned)"
      ]
    },
    {
      "cell_type": "code",
      "execution_count": 13,
      "metadata": {
        "colab": {
          "base_uri": "https://localhost:8080/"
        },
        "id": "XmYrnfP--EqU",
        "outputId": "7204f697-6e1a-4b6d-9703-5e343d86cc13"
      },
      "outputs": [
        {
          "output_type": "stream",
          "name": "stdout",
          "text": [
            "warung ini dimiliki oleh pengusaha pabrik tahu yang sudah puluhan tahun terkenal membuat tahu putih di bandung . tahu berkualitas , dipadu keahlian memasak , dipadu kretivitas , jadilah warung yang menyajikan menu utama berbahan tahu , ditambah menu umum lain seperti ayam . semuanya selera indonesia . harga cukup terjangkau . jangan lewatkan tahu bletoka nya , tidak kalah dengan yang asli dari tegal !    0\n",
            "positive                                                                                                                                                                                                                                                                                                                                                                                                                0\n",
            "dtype: int64\n"
          ]
        }
      ],
      "source": [
        "# Handle missing values\n",
        "print(df.isnull().sum())  # Check the number of missing values in each column\n"
      ]
    },
    {
      "cell_type": "code",
      "execution_count": 14,
      "metadata": {
        "id": "eVIhSNHM-lIr"
      },
      "outputs": [],
      "source": [
        "# Drop rows with missing values\n",
        "df = df.dropna()\n"
      ]
    },
    {
      "cell_type": "code",
      "execution_count": 15,
      "metadata": {
        "colab": {
          "base_uri": "https://localhost:8080/"
        },
        "id": "4A-9ZImv-pX8",
        "outputId": "60ad2cbc-d82d-4786-a07b-f74093a40ae5"
      },
      "outputs": [
        {
          "output_type": "stream",
          "name": "stdout",
          "text": [
            "<class 'pandas.core.frame.DataFrame'>\n",
            "RangeIndex: 10999 entries, 0 to 10998\n",
            "Data columns (total 2 columns):\n",
            " #   Column                                                                                                                                                                                                                                                                                                                                                                                                                Non-Null Count  Dtype \n",
            "---  ------                                                                                                                                                                                                                                                                                                                                                                                                                --------------  ----- \n",
            " 0   warung ini dimiliki oleh pengusaha pabrik tahu yang sudah puluhan tahun terkenal membuat tahu putih di bandung . tahu berkualitas , dipadu keahlian memasak , dipadu kretivitas , jadilah warung yang menyajikan menu utama berbahan tahu , ditambah menu umum lain seperti ayam . semuanya selera indonesia . harga cukup terjangkau . jangan lewatkan tahu bletoka nya , tidak kalah dengan yang asli dari tegal !  10999 non-null  object\n",
            " 1   positive                                                                                                                                                                                                                                                                                                                                                                                                              10999 non-null  object\n",
            "dtypes: object(2)\n",
            "memory usage: 172.0+ KB\n",
            "None\n",
            "       warung ini dimiliki oleh pengusaha pabrik tahu yang sudah puluhan tahun terkenal membuat tahu putih di bandung . tahu berkualitas , dipadu keahlian memasak , dipadu kretivitas , jadilah warung yang menyajikan menu utama berbahan tahu , ditambah menu umum lain seperti ayam . semuanya selera indonesia . harga cukup terjangkau . jangan lewatkan tahu bletoka nya , tidak kalah dengan yang asli dari tegal !  \\\n",
            "count                                               10999                                                                                                                                                                                                                                                                                                                                                                     \n",
            "unique                                              10932                                                                                                                                                                                                                                                                                                                                                                     \n",
            "top                                                 kesal                                                                                                                                                                                                                                                                                                                                                                     \n",
            "freq                                                    4                                                                                                                                                                                                                                                                                                                                                                     \n",
            "\n",
            "        positive  \n",
            "count      10999  \n",
            "unique         3  \n",
            "top     positive  \n",
            "freq        6415  \n"
          ]
        }
      ],
      "source": [
        "# Validate the cleansed data\n",
        "print(df.info())      # Verify the information of the DataFrame after cleansing\n",
        "print(df.describe())  # Validate the descriptive statistics of the DataFrame after cleansing"
      ]
    },
    {
      "cell_type": "code",
      "execution_count": 16,
      "metadata": {
        "id": "lFCXx1dSB8E5"
      },
      "outputs": [],
      "source": [
        "import pandas as pd\n",
        "from sklearn.model_selection import train_test_split"
      ]
    },
    {
      "cell_type": "code",
      "execution_count": 17,
      "metadata": {
        "id": "JfR_xP7QrxD-"
      },
      "outputs": [],
      "source": [
        "# Assuming your DataFrame is named 'df'\n",
        "X = df.drop('positive', axis=1)  # Drop the target variable column\n",
        "y = df['positive']  # Assign the target variable column\n"
      ]
    },
    {
      "cell_type": "code",
      "execution_count": 18,
      "metadata": {
        "id": "2Y7QTI35rys2"
      },
      "outputs": [],
      "source": [
        "# Split the dataset into training and testing sets (e.g., 80% for training, 20% for testing)\n",
        "X_train, X_test, y_train, y_test = train_test_split(X, y, test_size=0.2, random_state=42)\n"
      ]
    },
    {
      "cell_type": "code",
      "execution_count": null,
      "metadata": {
        "id": "FXbb0fxhsExY"
      },
      "outputs": [],
      "source": [
        "print(\"Training set shape:\")\n",
        "print(\"X_train:\", X_train.shape)\n",
        "print(\"y_train:\", y_train.shape)\n",
        "print()\n",
        "\n",
        "print(\"Testing set shape:\")\n",
        "print(\"X_test:\", X_test.shape)\n",
        "print(\"y_test:\", y_test.shape)\n"
      ]
    },
    {
      "cell_type": "code",
      "execution_count": null,
      "metadata": {
        "id": "ITrNAVrasFg6"
      },
      "outputs": [],
      "source": [
        "print(\"Sample from the training set:\")\n",
        "print(X_train.head())\n",
        "print(y_train.head())\n",
        "print()\n",
        "\n",
        "print(\"Sample from the testing set:\")\n",
        "print(X_test.head())\n",
        "print(y_test.head())\n"
      ]
    },
    {
      "cell_type": "code",
      "execution_count": 21,
      "metadata": {
        "id": "tuacRFResfvZ"
      },
      "outputs": [],
      "source": [
        "from sklearn.feature_extraction.text import TfidfVectorizer\n",
        "from sklearn.model_selection import train_test_split"
      ]
    },
    {
      "cell_type": "code",
      "execution_count": 22,
      "metadata": {
        "id": "YkJcss0oO_P9"
      },
      "outputs": [],
      "source": [
        "# Assuming you have preprocessed data in 'X' (input features) and 'y' (target variable)\n",
        "# Split the preprocessed dataset into training and testing sets\n",
        "X_train, X_test, y_train, y_test = train_test_split(X, y, test_size=0.2, random_state=42)"
      ]
    },
    {
      "cell_type": "code",
      "execution_count": 23,
      "metadata": {
        "id": "hz02WIM5PBEj"
      },
      "outputs": [],
      "source": [
        "# Create an instance of the TfidfVectorizer\n",
        "vectorizer = TfidfVectorizer()\n"
      ]
    },
    {
      "cell_type": "code",
      "execution_count": 24,
      "metadata": {
        "id": "lSEyznCWPD3z"
      },
      "outputs": [],
      "source": [
        "# Fit the vectorizer on the training data and transform both training and testing data\n",
        "X_train_tfidf = vectorizer.fit_transform(X_train)\n",
        "X_test_tfidf = vectorizer.transform(X_test)\n",
        "\n",
        "# X_train_tfidf and X_test_tfidf now contain the extracted TF-IDF features"
      ]
    },
    {
      "cell_type": "code",
      "source": [
        "print(X_train_tfidf.shape)\n",
        "print(X_test_tfidf.shape)\n"
      ],
      "metadata": {
        "colab": {
          "base_uri": "https://localhost:8080/"
        },
        "id": "hzWvjnVfRkS2",
        "outputId": "adee12d1-b6ed-4bca-fe1f-67e75b136eb9"
      },
      "execution_count": 27,
      "outputs": [
        {
          "output_type": "stream",
          "name": "stdout",
          "text": [
            "(1, 47)\n",
            "(1, 47)\n"
          ]
        }
      ]
    },
    {
      "cell_type": "code",
      "source": [
        "print(X_train_tfidf[:5])  # Print the first 5 rows of the training set\n",
        "print(X_test_tfidf[:5])   # Print the first 5 rows of the testing set\n"
      ],
      "metadata": {
        "id": "-X9lSmlbRk51"
      },
      "execution_count": null,
      "outputs": []
    },
    {
      "cell_type": "code",
      "source": [
        "from wordcloud import WordCloud\n",
        "import matplotlib.pyplot as plt"
      ],
      "metadata": {
        "id": "tMLV5_5JUaAl"
      },
      "execution_count": 40,
      "outputs": []
    },
    {
      "cell_type": "code",
      "source": [
        "# Assuming `X_train` is the training feature matrix after feature extraction\n",
        "text = \" \".join(X_train.astype(str).values.flatten())"
      ],
      "metadata": {
        "id": "0a1mmSHdUaLD"
      },
      "execution_count": 41,
      "outputs": []
    },
    {
      "cell_type": "code",
      "source": [
        "# Generate and display the word cloud\n",
        "wordcloud = WordCloud(width=800, height=400, background_color='white').generate(text)\n",
        "\n",
        "plt.figure(figsize=(10, 6))\n",
        "plt.imshow(wordcloud, interpolation='bilinear')\n",
        "plt.axis('off')\n",
        "plt.title('Word Cloud')\n",
        "plt.show()"
      ],
      "metadata": {
        "id": "B3ESZ8iSSICj"
      },
      "execution_count": null,
      "outputs": []
    },
    {
      "cell_type": "code",
      "source": [
        "# Generate and display the word cloud\n",
        "wordcloud = WordCloud(width=800, height=400, background_color='white').generate(text)\n",
        "plt.figure(figsize=(10, 6))\n",
        "plt.imshow(wordcloud, interpolation='bilinear')\n",
        "plt.axis('off')\n",
        "plt.title('Word Cloud')\n",
        "plt.show()"
      ],
      "metadata": {
        "id": "_zxa-AF0Rokk"
      },
      "execution_count": null,
      "outputs": []
    },
    {
      "cell_type": "code",
      "source": [],
      "metadata": {
        "id": "o8qL9yl6UtMO"
      },
      "execution_count": null,
      "outputs": []
    }
  ],
  "metadata": {
    "colab": {
      "provenance": [],
      "authorship_tag": "ABX9TyOQogwvqTppDjcftSyTzgrh",
      "include_colab_link": true
    },
    "kernelspec": {
      "display_name": "Python 3",
      "name": "python3"
    },
    "language_info": {
      "name": "python"
    }
  },
  "nbformat": 4,
  "nbformat_minor": 0
}